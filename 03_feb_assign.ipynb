{
 "cells": [
  {
   "cell_type": "code",
   "execution_count": 1,
   "id": "c5fee43b-22b1-4bec-8c80-11ab3adddbcf",
   "metadata": {},
   "outputs": [
    {
     "data": {
      "text/plain": [
       "[1, 3, 5, 7, 9, 11, 13, 15, 17, 19, 21, 23, 25]"
      ]
     },
     "execution_count": 1,
     "metadata": {},
     "output_type": "execute_result"
    }
   ],
   "source": [
    "# Q1. Which keyword is used to create a function? Create a function to return a list of odd numbers in the range of 1 to 25.\n",
    "\n",
    "# Ans: def keyword is used to create a function\n",
    "\n",
    "def odd_numbers():\n",
    "    list1 = []\n",
    "    for i in range(1,26):\n",
    "        if i%2 != 0:\n",
    "            list1.append(i)\n",
    "    return list1\n",
    "\n",
    "odd_numbers()"
   ]
  },
  {
   "cell_type": "code",
   "execution_count": 6,
   "id": "ad247ab9-c90a-4c2a-80d8-c765da1f696c",
   "metadata": {},
   "outputs": [
    {
     "name": "stdout",
     "output_type": "stream",
     "text": [
      "name --> z\n",
      "email --> z@z\n",
      "phone --> 9745178\n"
     ]
    }
   ],
   "source": [
    "\"\"\"Q2. Why *args and **kwargs is used in some functions? Create a function each for *args and **kwargs\n",
    "to demonstrate their use.\"\"\"\n",
    "\n",
    "# Ans: we use *args and **kwargs to pass variable number of argument to the function\n",
    "\n",
    "# Example of *args:\n",
    "\n",
    "def s(*args):\n",
    "    sums = 0\n",
    "    for i in args:\n",
    "        sums += i\n",
    "    return sums\n",
    "\n",
    "s(1,2,3,4,5,6,7,8,9,10)\n",
    "\n",
    "# Example of **kwargs:\n",
    "\n",
    "def data(**kwargs):\n",
    "    for key,value in kwargs.items():\n",
    "        print(f\"{key} --> {value}\")\n",
    "        \n",
    "data(name = 'z', email = 'z@z', phone = 9745178)"
   ]
  },
  {
   "cell_type": "code",
   "execution_count": 14,
   "id": "fe2eba0e-0432-4912-b958-e228bc8efc7c",
   "metadata": {},
   "outputs": [
    {
     "name": "stdout",
     "output_type": "stream",
     "text": [
      "2\n",
      "4\n",
      "6\n",
      "8\n",
      "10\n",
      "12\n",
      "14\n",
      "16\n",
      "18\n",
      "20\n"
     ]
    }
   ],
   "source": [
    "\"\"\"Q3. What is an iterator in python? Name the method used to initialise the iterator object and the method\n",
    "used for iteration. Use these methods to print the first five elements of the given list [2, 4, 6, 8, 10, 12, 14,\n",
    "16, 18, 20].\"\"\"\n",
    "\n",
    "# Ans: Iterator is something that is used to Iterate over something which is Iterable like list, tuple, etc.\n",
    "# The method used to initialize the iterator object is iter()\n",
    "# The method used for iteration is next()\n",
    "\n",
    "l1 = [2, 4, 6, 8, 10, 12, 14, 16, 18, 20]\n",
    "number_iteration = iter(l1)\n",
    "print(next(number_iteration))\n",
    "print(next(number_iteration))\n",
    "print(next(number_iteration))\n",
    "print(next(number_iteration))\n",
    "print(next(number_iteration))\n",
    "print(next(number_iteration))\n",
    "print(next(number_iteration))\n",
    "print(next(number_iteration))\n",
    "print(next(number_iteration))\n",
    "print(next(number_iteration))"
   ]
  },
  {
   "cell_type": "code",
   "execution_count": 18,
   "id": "249971d6-d104-4a6d-899d-e9674cf839db",
   "metadata": {},
   "outputs": [
    {
     "name": "stdout",
     "output_type": "stream",
     "text": [
      "0 1 1 2 3 5 8 13 21 34 55 89 "
     ]
    }
   ],
   "source": [
    "\"\"\"Q4. What is a generator function in python? Why yield keyword is used? Give an example of a generator\n",
    "function.\"\"\"\n",
    "\n",
    "# Ans: Generator function is like a normal function but in place of return we use yield\n",
    "# yield main function is that whenever we come across yield keyword that program will pause and return a value from that function and after returning it will resume the program\n",
    "\n",
    "# Example\n",
    "\n",
    "def fibo():\n",
    "    a, b = 0, 1\n",
    "    while a < 100:\n",
    "        yield a\n",
    "        a, b = b, a + b\n",
    "        \n",
    "for i in fibo():\n",
    "    print(i, end = \" \")"
   ]
  },
  {
   "cell_type": "code",
   "execution_count": 34,
   "id": "1216eea2-fd59-4718-bb51-bc68198d7e20",
   "metadata": {},
   "outputs": [
    {
     "name": "stdout",
     "output_type": "stream",
     "text": [
      "2 3 5 7 11 13 17 19 23 29 31 37 41 43 47 53 59 61 67 71 "
     ]
    }
   ],
   "source": [
    "\"\"\"Q5. Create a generator function for prime numbers less than 1000. Use the next() method to print the\n",
    "first 20 prime numbers.\"\"\"\n",
    "\n",
    "# Ans : \n",
    "\n",
    "def prime():\n",
    "    for i in range(2, 1000):\n",
    "        for j in range(2, i):\n",
    "            if i%j == 0:\n",
    "                break\n",
    "        else:\n",
    "            yield i\n",
    "                \n",
    "prime_numbers = iter(prime())\n",
    "for i in range(20):\n",
    "    print(next(prime_numbers), end = ' ')"
   ]
  },
  {
   "cell_type": "code",
   "execution_count": 2,
   "id": "6bfffd73-d523-4201-b218-b01d8df52f30",
   "metadata": {},
   "outputs": [
    {
     "name": "stdout",
     "output_type": "stream",
     "text": [
      "0 1 1 2 3 5 8 13 21 34 "
     ]
    }
   ],
   "source": [
    "\"\"\"Q6. Write a python program to print the first 10 Fibonacci numbers using a while loop.\"\"\"\n",
    "\n",
    "# Ans:\n",
    "def fibo():\n",
    "    a, b, n = 0, 1, 0\n",
    "    while n < 20:\n",
    "        yield a\n",
    "        a, b = b , a+b\n",
    "        n += 1\n",
    "        \n",
    "fibonacci_series = iter(fibo())\n",
    "for _ in range(10):\n",
    "    print(next(fibonacci_series), end = \" \")"
   ]
  },
  {
   "cell_type": "code",
   "execution_count": 3,
   "id": "6663f0d9-8524-48ae-845e-22a64bca73d3",
   "metadata": {},
   "outputs": [
    {
     "name": "stdout",
     "output_type": "stream",
     "text": [
      "['p', 'w', 's', 'k', 'i', 'l', 'l', 's']\n"
     ]
    }
   ],
   "source": [
    "\"\"\"Q7. Write a List Comprehension to iterate through the given string: ‘pwskills’.\n",
    "Expected output: ['p', 'w', 's', 'k', 'i', 'l', 'l', 's']\"\"\"\n",
    "\n",
    "# Ans:\n",
    "s = 'pwskills'\n",
    "l1 = [i for i in s]\n",
    "print(l1)"
   ]
  },
  {
   "cell_type": "code",
   "execution_count": 7,
   "id": "887ec0f8-7516-4b5b-80e6-0e7a4542cf2d",
   "metadata": {},
   "outputs": [
    {
     "name": "stdin",
     "output_type": "stream",
     "text": [
      "Enter a number:  313\n"
     ]
    },
    {
     "name": "stdout",
     "output_type": "stream",
     "text": [
      "It is a Palindrome number\n"
     ]
    }
   ],
   "source": [
    "\"\"\"Q8. Write a python program to check whether a given number is Palindrome or not using a while loop.\"\"\"\n",
    "\n",
    "# Ans:\n",
    "n = int(input(\"Enter a number: \"))\n",
    "rev = 0\n",
    "temp = n\n",
    "while temp>0:\n",
    "    dig = temp % 10\n",
    "    rev = rev*10 + dig\n",
    "    temp = temp//10\n",
    "\n",
    "if n == rev:\n",
    "    print(\"It is a Palindrome number\")\n",
    "else:\n",
    "    print(\"It is not a Palindrome number\")"
   ]
  },
  {
   "cell_type": "code",
   "execution_count": 9,
   "id": "42ef768f-7bdc-4336-87a4-009a0e5390c6",
   "metadata": {},
   "outputs": [
    {
     "name": "stdout",
     "output_type": "stream",
     "text": [
      "Odd Numbers: [1, 3, 5, 7, 9, 11, 13, 15, 17, 19, 21, 23, 25, 27, 29, 31, 33, 35, 37, 39, 41, 43, 45, 47, 49, 51, 53, 55, 57, 59, 61, 63, 65, 67, 69, 71, 73, 75, 77, 79, 81, 83, 85, 87, 89, 91, 93, 95, 97, 99]\n"
     ]
    }
   ],
   "source": [
    "\"\"\"Q9. Write a code to print odd numbers from 1 to 100 using list comprehension.\"\"\"\n",
    "\n",
    "# Ans:\n",
    "\n",
    "l1 = [i for i in range(100)]\n",
    "\n",
    "odd_numbers = [i for i in l1 if i%2 != 0]\n",
    "\n",
    "print(f\"Odd Numbers: {odd_numbers}\")\n"
   ]
  },
  {
   "cell_type": "code",
   "execution_count": null,
   "id": "e02c2e28-d78f-4c17-8c4c-bbb4a0458cc7",
   "metadata": {},
   "outputs": [],
   "source": []
  }
 ],
 "metadata": {
  "kernelspec": {
   "display_name": "Python 3 (ipykernel)",
   "language": "python",
   "name": "python3"
  },
  "language_info": {
   "codemirror_mode": {
    "name": "ipython",
    "version": 3
   },
   "file_extension": ".py",
   "mimetype": "text/x-python",
   "name": "python",
   "nbconvert_exporter": "python",
   "pygments_lexer": "ipython3",
   "version": "3.10.8"
  }
 },
 "nbformat": 4,
 "nbformat_minor": 5
}
